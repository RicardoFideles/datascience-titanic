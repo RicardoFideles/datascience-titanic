{
 "cells": [
  {
   "cell_type": "markdown",
   "metadata": {},
   "source": [
    "# Projeto 2 - Investigando os dados de sobreviventes do Titanic"
   ]
  },
  {
   "cell_type": "markdown",
   "metadata": {},
   "source": [
    "## Introdução\n",
    "\n",
    "\n",
    "O naufrágio do Titanic é um dos mais trágicos naufrágios da história. Em 15 de abril de 1912, durante sua viagem inaugural, o Titanic afundou depois de colidir com um iceberg, matando 1502 de 2224 passageiros e tripulantes. \n",
    "\n",
    "Uma das razões pelas quais o naufrágio causou tal perda de vida foi que não havia botes salva-vidas suficientes para os passageiros e a tripulação.\n",
    "\n",
    "Esta análise exploratória tem por objetivo analisar os fatores de sobrevivencia para identificar se houveram motivos que favoreceram as chances de sobrevivência dos passageiros."
   ]
  },
  {
   "cell_type": "markdown",
   "metadata": {},
   "source": [
    "### Questões a serem analisadas :\n",
    "\n",
    "- Quantos pessoas sobreviveram e quantas não sobreviveram ?\n",
    "- O que podemos inferir sobre a idadde dos passageiros ?\n",
    "    - A idade do passageiro mais velho ?\n",
    "    - A idade do passageiro mais novo ?\n",
    "    - A idade média dos passageiros ?\n",
    "    - As idade dos homem mais velho a não sobreviver e sobreviver ?\n",
    "    - As idade dos homem mais novo a não sobreviver e sobreviver ?\n",
    "    - As idade das mulheres mais velha a não sobreviver e sobreviver ?\n",
    "    - As idade das mulhers mais novas a não sobreviver e sobreviver ?\n",
    "    - Comparativo entre as idades dos sobreviventes do sexo masculino por classe ?\n",
    "    - Comparativo entre as idades dos sobreviventes do sexo feminino por classe ?\n",
    "- O que podemos inferir sobre a sexos dos passageiros e as taxas de sobrevivência ?"
   ]
  },
  {
   "cell_type": "code",
   "execution_count": 1,
   "metadata": {},
   "outputs": [],
   "source": [
    "# Realizando imports\n",
    "import pandas as pd\n",
    "import numpy as np\n",
    "from matplotlib import pyplot as plt\n",
    "%matplotlib inline  "
   ]
  },
  {
   "cell_type": "code",
   "execution_count": 2,
   "metadata": {},
   "outputs": [],
   "source": [
    "# Carregando dataset\n",
    "titanic_df = pd.read_csv(\"titanic-data-6.csv\")"
   ]
  },
  {
   "cell_type": "markdown",
   "metadata": {},
   "source": [
    "### DICIONÁRIO DE DADOS:"
   ]
  },
  {
   "cell_type": "markdown",
   "metadata": {},
   "source": [
    "Survived (Sobreviveu): 0 = Não 1 = Sim<br/> \n",
    "Pclass (Classe): Tipo da passagem 1 = 1º Classe, 2 = 2º Classe 3 = 3º Classe<br/> \n",
    "Sex (Sexo): Sexo do passageiro<br/> \n",
    "Age (Idade): Idade <br/> \n",
    "Sibsp: Quantidade de irmãos / cônjuges a bordo do Titanic<br/> \n",
    "Parch: Quantidade de pais / crianças a bordo do Titanic<br/> \n",
    "Ticket (Bilhete): Número do bilhete de embarque<br/> \n",
    "Fare (Tarifa): Valor da passagem<br/> \n",
    "Cabin (Cabine): Número da cabine<br/> \n",
    "Embarked (Embarque): Porto de Embarque (C = Cherbourg Q = Queenstown S = Southampton)<br/> \n",
    "\n",
    "Informações retiradas do site do  [Kaggle](https://www.kaggle.com/c/titanic/data)"
   ]
  },
  {
   "cell_type": "markdown",
   "metadata": {},
   "source": [
    "## Análise dos dados\n",
    "\n",
    "Nesta seção irei análisar os dados contidos no arquivo CSV, afim de verificar se existem dados duplicados ou ausentes que possam interferir para a análise dos questionamentos a serem respondidos por esta análise."
   ]
  },
  {
   "cell_type": "code",
   "execution_count": 3,
   "metadata": {},
   "outputs": [
    {
     "data": {
      "text/html": [
       "<div>\n",
       "<style scoped>\n",
       "    .dataframe tbody tr th:only-of-type {\n",
       "        vertical-align: middle;\n",
       "    }\n",
       "\n",
       "    .dataframe tbody tr th {\n",
       "        vertical-align: top;\n",
       "    }\n",
       "\n",
       "    .dataframe thead th {\n",
       "        text-align: right;\n",
       "    }\n",
       "</style>\n",
       "<table border=\"1\" class=\"dataframe\">\n",
       "  <thead>\n",
       "    <tr style=\"text-align: right;\">\n",
       "      <th></th>\n",
       "      <th>PassengerId</th>\n",
       "      <th>Survived</th>\n",
       "      <th>Pclass</th>\n",
       "      <th>Name</th>\n",
       "      <th>Sex</th>\n",
       "      <th>Age</th>\n",
       "      <th>SibSp</th>\n",
       "      <th>Parch</th>\n",
       "      <th>Ticket</th>\n",
       "      <th>Fare</th>\n",
       "      <th>Cabin</th>\n",
       "      <th>Embarked</th>\n",
       "    </tr>\n",
       "  </thead>\n",
       "  <tbody>\n",
       "    <tr>\n",
       "      <th>0</th>\n",
       "      <td>1</td>\n",
       "      <td>0</td>\n",
       "      <td>3</td>\n",
       "      <td>Braund, Mr. Owen Harris</td>\n",
       "      <td>male</td>\n",
       "      <td>22.0</td>\n",
       "      <td>1</td>\n",
       "      <td>0</td>\n",
       "      <td>A/5 21171</td>\n",
       "      <td>7.2500</td>\n",
       "      <td>NaN</td>\n",
       "      <td>S</td>\n",
       "    </tr>\n",
       "    <tr>\n",
       "      <th>1</th>\n",
       "      <td>2</td>\n",
       "      <td>1</td>\n",
       "      <td>1</td>\n",
       "      <td>Cumings, Mrs. John Bradley (Florence Briggs Th...</td>\n",
       "      <td>female</td>\n",
       "      <td>38.0</td>\n",
       "      <td>1</td>\n",
       "      <td>0</td>\n",
       "      <td>PC 17599</td>\n",
       "      <td>71.2833</td>\n",
       "      <td>C85</td>\n",
       "      <td>C</td>\n",
       "    </tr>\n",
       "    <tr>\n",
       "      <th>2</th>\n",
       "      <td>3</td>\n",
       "      <td>1</td>\n",
       "      <td>3</td>\n",
       "      <td>Heikkinen, Miss. Laina</td>\n",
       "      <td>female</td>\n",
       "      <td>26.0</td>\n",
       "      <td>0</td>\n",
       "      <td>0</td>\n",
       "      <td>STON/O2. 3101282</td>\n",
       "      <td>7.9250</td>\n",
       "      <td>NaN</td>\n",
       "      <td>S</td>\n",
       "    </tr>\n",
       "    <tr>\n",
       "      <th>3</th>\n",
       "      <td>4</td>\n",
       "      <td>1</td>\n",
       "      <td>1</td>\n",
       "      <td>Futrelle, Mrs. Jacques Heath (Lily May Peel)</td>\n",
       "      <td>female</td>\n",
       "      <td>35.0</td>\n",
       "      <td>1</td>\n",
       "      <td>0</td>\n",
       "      <td>113803</td>\n",
       "      <td>53.1000</td>\n",
       "      <td>C123</td>\n",
       "      <td>S</td>\n",
       "    </tr>\n",
       "    <tr>\n",
       "      <th>4</th>\n",
       "      <td>5</td>\n",
       "      <td>0</td>\n",
       "      <td>3</td>\n",
       "      <td>Allen, Mr. William Henry</td>\n",
       "      <td>male</td>\n",
       "      <td>35.0</td>\n",
       "      <td>0</td>\n",
       "      <td>0</td>\n",
       "      <td>373450</td>\n",
       "      <td>8.0500</td>\n",
       "      <td>NaN</td>\n",
       "      <td>S</td>\n",
       "    </tr>\n",
       "  </tbody>\n",
       "</table>\n",
       "</div>"
      ],
      "text/plain": [
       "   PassengerId  Survived  Pclass  \\\n",
       "0            1         0       3   \n",
       "1            2         1       1   \n",
       "2            3         1       3   \n",
       "3            4         1       1   \n",
       "4            5         0       3   \n",
       "\n",
       "                                                Name     Sex   Age  SibSp  \\\n",
       "0                            Braund, Mr. Owen Harris    male  22.0      1   \n",
       "1  Cumings, Mrs. John Bradley (Florence Briggs Th...  female  38.0      1   \n",
       "2                             Heikkinen, Miss. Laina  female  26.0      0   \n",
       "3       Futrelle, Mrs. Jacques Heath (Lily May Peel)  female  35.0      1   \n",
       "4                           Allen, Mr. William Henry    male  35.0      0   \n",
       "\n",
       "   Parch            Ticket     Fare Cabin Embarked  \n",
       "0      0         A/5 21171   7.2500   NaN        S  \n",
       "1      0          PC 17599  71.2833   C85        C  \n",
       "2      0  STON/O2. 3101282   7.9250   NaN        S  \n",
       "3      0            113803  53.1000  C123        S  \n",
       "4      0            373450   8.0500   NaN        S  "
      ]
     },
     "execution_count": 3,
     "metadata": {},
     "output_type": "execute_result"
    }
   ],
   "source": [
    "# Visualizando os primeiros elementos do dataset\n",
    "titanic_df.head()"
   ]
  },
  {
   "cell_type": "code",
   "execution_count": 4,
   "metadata": {},
   "outputs": [
    {
     "data": {
      "text/plain": [
       "PassengerId      int64\n",
       "Survived         int64\n",
       "Pclass           int64\n",
       "Name            object\n",
       "Sex             object\n",
       "Age            float64\n",
       "SibSp            int64\n",
       "Parch            int64\n",
       "Ticket          object\n",
       "Fare           float64\n",
       "Cabin           object\n",
       "Embarked        object\n",
       "dtype: object"
      ]
     },
     "execution_count": 4,
     "metadata": {},
     "output_type": "execute_result"
    }
   ],
   "source": [
    "# Investigando os tipos de dados encontrados no dataset\n",
    "titanic_df.dtypes"
   ]
  },
  {
   "cell_type": "markdown",
   "metadata": {},
   "source": [
    "Analisando tamanho da matriz de dados"
   ]
  },
  {
   "cell_type": "code",
   "execution_count": 5,
   "metadata": {},
   "outputs": [
    {
     "data": {
      "text/plain": [
       "(891, 12)"
      ]
     },
     "execution_count": 5,
     "metadata": {},
     "output_type": "execute_result"
    }
   ],
   "source": [
    "# verificando tamanho dos dados\n",
    "titanic_df.shape"
   ]
  },
  {
   "cell_type": "markdown",
   "metadata": {},
   "source": [
    "Analisando se existem dados duplicados"
   ]
  },
  {
   "cell_type": "code",
   "execution_count": 6,
   "metadata": {},
   "outputs": [
    {
     "data": {
      "text/plain": [
       "0"
      ]
     },
     "execution_count": 6,
     "metadata": {},
     "output_type": "execute_result"
    }
   ],
   "source": [
    "# verificando por dados duplicados\n",
    "sum(titanic_df.duplicated())"
   ]
  },
  {
   "cell_type": "markdown",
   "metadata": {},
   "source": [
    "Verificando se existem linhas com valores nullos"
   ]
  },
  {
   "cell_type": "code",
   "execution_count": 7,
   "metadata": {},
   "outputs": [
    {
     "data": {
      "text/plain": [
       "array(['Age', 'Cabin', 'Embarked'], dtype=object)"
      ]
     },
     "execution_count": 7,
     "metadata": {},
     "output_type": "execute_result"
    }
   ],
   "source": [
    "# verificando por colunas com dados em brancos ou nulos\n",
    "titanic_df.columns[titanic_df.isnull().any()].values"
   ]
  },
  {
   "cell_type": "markdown",
   "metadata": {},
   "source": [
    "Durante a análise dos dados foi identificado que as colunas age, cabin e Embarked possuem valores nullos. "
   ]
  },
  {
   "cell_type": "markdown",
   "metadata": {},
   "source": [
    "## Limpeza de dados"
   ]
  },
  {
   "cell_type": "markdown",
   "metadata": {},
   "source": [
    "Agora que análisamos os dados, iremos realizar a limpeza do dados. Para esta análise iremos normalizar a coluna 'Age' que representa a idades dos passageiros. Primeiro vamos descobrir a quantidade de linhas com valores nulls para a coluna 'Age'.\n"
   ]
  },
  {
   "cell_type": "code",
   "execution_count": 8,
   "metadata": {},
   "outputs": [
    {
     "name": "stdout",
     "output_type": "stream",
     "text": [
      "Foram encontrados 177 registros sem valor para a coluna Age que representa a idade dos passageiros\n"
     ]
    }
   ],
   "source": [
    "e_age = titanic_df['Age'].isnull().sum()\n",
    "print('Foram encontrados {0} registros sem valor para a coluna Age que representa a idade dos passageiros'.format(e_age))"
   ]
  },
  {
   "cell_type": "code",
   "execution_count": 9,
   "metadata": {},
   "outputs": [],
   "source": [
    "def normalizeAGE(age):\n",
    "    \"\"\"Verifica se a idade informada for menor que 1, se sim, a mesma é sobrescrita para o valor padrão 1, \n",
    "        caso seja maior retorna o valor informado.\n",
    "\n",
    "    Args:\n",
    "        age (float): idade do passageiro\n",
    "    \"\"\"\n",
    "    if age < 1.0:\n",
    "        return 1.0\n",
    "    return age\n",
    "\n",
    "titanic_df['Age'] = titanic_df['Age'].apply(normalizeAGE)"
   ]
  },
  {
   "cell_type": "code",
   "execution_count": 10,
   "metadata": {},
   "outputs": [
    {
     "name": "stdout",
     "output_type": "stream",
     "text": [
      "Pclass\n",
      "1    41.282178\n",
      "2    30.747475\n",
      "3    26.509881\n",
      "Name: Age, dtype: float64\n",
      "Pclass\n",
      "1    34.611765\n",
      "2    28.722973\n",
      "3    21.754902\n",
      "Name: Age, dtype: float64\n"
     ]
    }
   ],
   "source": [
    "# Aqui vamos analizar a idade média por sexo e por classe a fim de preencher os dados faltantes de forma mais coerrente.\n",
    "age_mean_man  = titanic_df[titanic_df['Sex'] == 'male'].groupby('Pclass')['Age'].mean()\n",
    "age_mean_women  = titanic_df[titanic_df['Sex'] == 'female'].groupby('Pclass')['Age'].mean()\n",
    "\n",
    "print(age_mean_man)\n",
    "print(age_mean_women)\n",
    "\n",
    "\n",
    "# df[df['Sobreviveu'] == 1].groupby('Classe').sum()['Sobreviveu']"
   ]
  },
  {
   "cell_type": "code",
   "execution_count": 11,
   "metadata": {},
   "outputs": [
    {
     "data": {
      "text/plain": [
       "count    714.000000\n",
       "mean      29.701681\n",
       "std       14.521395\n",
       "min        1.000000\n",
       "25%       20.125000\n",
       "50%       28.000000\n",
       "75%       38.000000\n",
       "max       80.000000\n",
       "Name: Age, dtype: float64"
      ]
     },
     "execution_count": 11,
     "metadata": {},
     "output_type": "execute_result"
    }
   ],
   "source": [
    "titanic_df['Age'].describe()"
   ]
  },
  {
   "cell_type": "markdown",
   "metadata": {},
   "source": [
    "Preenchendo os dados nulos com a idade média dos passageiros por classe"
   ]
  },
  {
   "cell_type": "code",
   "execution_count": 12,
   "metadata": {},
   "outputs": [],
   "source": [
    "titanic_df['Age']  = titanic_df['Age'].groupby([titanic_df['Sex'], titanic_df['Pclass']]) \\\n",
    "                        .apply(lambda x: x.fillna(x.median()))"
   ]
  },
  {
   "cell_type": "code",
   "execution_count": 13,
   "metadata": {},
   "outputs": [
    {
     "data": {
      "text/plain": [
       "count    891.000000\n",
       "mean      29.114478\n",
       "std       13.300052\n",
       "min        1.000000\n",
       "25%       21.500000\n",
       "50%       26.000000\n",
       "75%       36.000000\n",
       "max       80.000000\n",
       "Name: Age, dtype: float64"
      ]
     },
     "execution_count": 13,
     "metadata": {},
     "output_type": "execute_result"
    }
   ],
   "source": [
    "titanic_df['Age'].describe()"
   ]
  },
  {
   "cell_type": "markdown",
   "metadata": {},
   "source": [
    "Verificando se ainda existem dados nulos para a coluna 'Age'"
   ]
  },
  {
   "cell_type": "code",
   "execution_count": 14,
   "metadata": {},
   "outputs": [
    {
     "data": {
      "text/plain": [
       "0"
      ]
     },
     "execution_count": 14,
     "metadata": {},
     "output_type": "execute_result"
    }
   ],
   "source": [
    "# Verificando que todos os dados nullos foram preenchidos\n",
    "titanic_df['Age'].isnull().sum()"
   ]
  },
  {
   "cell_type": "code",
   "execution_count": 15,
   "metadata": {},
   "outputs": [],
   "source": [
    "titanic_df['Age'] = titanic_df['Age'].astype(int)"
   ]
  },
  {
   "cell_type": "code",
   "execution_count": 16,
   "metadata": {},
   "outputs": [
    {
     "name": "stdout",
     "output_type": "stream",
     "text": [
      "<class 'pandas.core.frame.DataFrame'>\n",
      "RangeIndex: 891 entries, 0 to 890\n",
      "Data columns (total 12 columns):\n",
      "PassengerId    891 non-null int64\n",
      "Survived       891 non-null int64\n",
      "Pclass         891 non-null int64\n",
      "Name           891 non-null object\n",
      "Sex            891 non-null object\n",
      "Age            891 non-null int64\n",
      "SibSp          891 non-null int64\n",
      "Parch          891 non-null int64\n",
      "Ticket         891 non-null object\n",
      "Fare           891 non-null float64\n",
      "Cabin          204 non-null object\n",
      "Embarked       889 non-null object\n",
      "dtypes: float64(1), int64(6), object(5)\n",
      "memory usage: 83.6+ KB\n"
     ]
    }
   ],
   "source": [
    "titanic_df.info()"
   ]
  },
  {
   "cell_type": "code",
   "execution_count": 17,
   "metadata": {},
   "outputs": [
    {
     "data": {
      "text/html": [
       "<div>\n",
       "<style scoped>\n",
       "    .dataframe tbody tr th:only-of-type {\n",
       "        vertical-align: middle;\n",
       "    }\n",
       "\n",
       "    .dataframe tbody tr th {\n",
       "        vertical-align: top;\n",
       "    }\n",
       "\n",
       "    .dataframe thead th {\n",
       "        text-align: right;\n",
       "    }\n",
       "</style>\n",
       "<table border=\"1\" class=\"dataframe\">\n",
       "  <thead>\n",
       "    <tr style=\"text-align: right;\">\n",
       "      <th></th>\n",
       "      <th>PassengerId</th>\n",
       "      <th>Survived</th>\n",
       "      <th>Pclass</th>\n",
       "      <th>Age</th>\n",
       "      <th>SibSp</th>\n",
       "      <th>Parch</th>\n",
       "      <th>Fare</th>\n",
       "    </tr>\n",
       "  </thead>\n",
       "  <tbody>\n",
       "    <tr>\n",
       "      <th>count</th>\n",
       "      <td>891.000000</td>\n",
       "      <td>891.000000</td>\n",
       "      <td>891.000000</td>\n",
       "      <td>891.000000</td>\n",
       "      <td>891.000000</td>\n",
       "      <td>891.000000</td>\n",
       "      <td>891.000000</td>\n",
       "    </tr>\n",
       "    <tr>\n",
       "      <th>mean</th>\n",
       "      <td>446.000000</td>\n",
       "      <td>0.383838</td>\n",
       "      <td>2.308642</td>\n",
       "      <td>29.080808</td>\n",
       "      <td>0.523008</td>\n",
       "      <td>0.381594</td>\n",
       "      <td>32.204208</td>\n",
       "    </tr>\n",
       "    <tr>\n",
       "      <th>std</th>\n",
       "      <td>257.353842</td>\n",
       "      <td>0.486592</td>\n",
       "      <td>0.836071</td>\n",
       "      <td>13.309462</td>\n",
       "      <td>1.102743</td>\n",
       "      <td>0.806057</td>\n",
       "      <td>49.693429</td>\n",
       "    </tr>\n",
       "    <tr>\n",
       "      <th>min</th>\n",
       "      <td>1.000000</td>\n",
       "      <td>0.000000</td>\n",
       "      <td>1.000000</td>\n",
       "      <td>1.000000</td>\n",
       "      <td>0.000000</td>\n",
       "      <td>0.000000</td>\n",
       "      <td>0.000000</td>\n",
       "    </tr>\n",
       "    <tr>\n",
       "      <th>25%</th>\n",
       "      <td>223.500000</td>\n",
       "      <td>0.000000</td>\n",
       "      <td>2.000000</td>\n",
       "      <td>21.000000</td>\n",
       "      <td>0.000000</td>\n",
       "      <td>0.000000</td>\n",
       "      <td>7.910400</td>\n",
       "    </tr>\n",
       "    <tr>\n",
       "      <th>50%</th>\n",
       "      <td>446.000000</td>\n",
       "      <td>0.000000</td>\n",
       "      <td>3.000000</td>\n",
       "      <td>26.000000</td>\n",
       "      <td>0.000000</td>\n",
       "      <td>0.000000</td>\n",
       "      <td>14.454200</td>\n",
       "    </tr>\n",
       "    <tr>\n",
       "      <th>75%</th>\n",
       "      <td>668.500000</td>\n",
       "      <td>1.000000</td>\n",
       "      <td>3.000000</td>\n",
       "      <td>36.000000</td>\n",
       "      <td>1.000000</td>\n",
       "      <td>0.000000</td>\n",
       "      <td>31.000000</td>\n",
       "    </tr>\n",
       "    <tr>\n",
       "      <th>max</th>\n",
       "      <td>891.000000</td>\n",
       "      <td>1.000000</td>\n",
       "      <td>3.000000</td>\n",
       "      <td>80.000000</td>\n",
       "      <td>8.000000</td>\n",
       "      <td>6.000000</td>\n",
       "      <td>512.329200</td>\n",
       "    </tr>\n",
       "  </tbody>\n",
       "</table>\n",
       "</div>"
      ],
      "text/plain": [
       "       PassengerId    Survived      Pclass         Age       SibSp  \\\n",
       "count   891.000000  891.000000  891.000000  891.000000  891.000000   \n",
       "mean    446.000000    0.383838    2.308642   29.080808    0.523008   \n",
       "std     257.353842    0.486592    0.836071   13.309462    1.102743   \n",
       "min       1.000000    0.000000    1.000000    1.000000    0.000000   \n",
       "25%     223.500000    0.000000    2.000000   21.000000    0.000000   \n",
       "50%     446.000000    0.000000    3.000000   26.000000    0.000000   \n",
       "75%     668.500000    1.000000    3.000000   36.000000    1.000000   \n",
       "max     891.000000    1.000000    3.000000   80.000000    8.000000   \n",
       "\n",
       "            Parch        Fare  \n",
       "count  891.000000  891.000000  \n",
       "mean     0.381594   32.204208  \n",
       "std      0.806057   49.693429  \n",
       "min      0.000000    0.000000  \n",
       "25%      0.000000    7.910400  \n",
       "50%      0.000000   14.454200  \n",
       "75%      0.000000   31.000000  \n",
       "max      6.000000  512.329200  "
      ]
     },
     "execution_count": 17,
     "metadata": {},
     "output_type": "execute_result"
    }
   ],
   "source": [
    "titanic_df.describe()"
   ]
  },
  {
   "cell_type": "markdown",
   "metadata": {},
   "source": [
    "## 1 - Pergunta : Quantos pessoas sobreviveram e quantas não sobreviveram"
   ]
  },
  {
   "cell_type": "code",
   "execution_count": 18,
   "metadata": {},
   "outputs": [
    {
     "name": "stdout",
     "output_type": "stream",
     "text": [
      "Através da análise podemos concluir que 38.4% sobreviveram e 61.6% não sobreviveram\n"
     ]
    },
    {
     "data": {
      "image/png": "[encoded data removed]",
      "text/plain": [
       "<Figure size 432x288 with 1 Axes>"
      ]
     },
     "metadata": {},
     "output_type": "display_data"
    }
   ],
   "source": [
    "titanic_df['Survived'].value_counts().plot.pie(colors=('tab:purple', 'tab:blue'), \n",
    "                                       title='Percentual de sobreviventes', \n",
    "                                       fontsize=15, shadow=True, startangle=90, autopct='%1.1f%%', \n",
    "                                       labels=('Não sobreviveram','Sobreviveram'),\n",
    "                                       figsize=(6,4)).set_ylabel('')\n",
    "\n",
    "\n",
    "data_survival = titanic_df['Survived'].value_counts()\n",
    "total = data_survival.sum()\n",
    "not_survival = data_survival[0]\n",
    "survival = data_survival[1]\n",
    "\n",
    "def calc_percentual(survival, total):\n",
    "    return round (((survival * 100) / total), 1)\n",
    "\n",
    "print('Através da análise podemos concluir que {0}% sobreviveram e {1}% não sobreviveram'\n",
    "      .format(calc_percentual(survival, total), calc_percentual(not_survival, total)))\n"
   ]
  },
  {
   "cell_type": "markdown",
   "metadata": {},
   "source": [
    "## 2 - Pergunta : O que podemos inferir sobre a idadde dos passageiros\n"
   ]
  },
  {
   "cell_type": "code",
   "execution_count": 19,
   "metadata": {},
   "outputs": [
    {
     "name": "stdout",
     "output_type": "stream",
     "text": [
      "Vamos olhar um pouco mais de perto os dados contidos na coluna que representa a idade dos passageiros\n"
     ]
    },
    {
     "data": {
      "text/plain": [
       "count    891.000000\n",
       "mean      29.080808\n",
       "std       13.309462\n",
       "min        1.000000\n",
       "25%       21.000000\n",
       "50%       26.000000\n",
       "75%       36.000000\n",
       "max       80.000000\n",
       "Name: Age, dtype: float64"
      ]
     },
     "execution_count": 19,
     "metadata": {},
     "output_type": "execute_result"
    }
   ],
   "source": [
    "print('Vamos olhar um pouco mais de perto os dados contidos na coluna que representa a idade dos passageiros')\n",
    "titanic_df['Age'].describe()"
   ]
  },
  {
   "cell_type": "markdown",
   "metadata": {},
   "source": [
    "Através da análise acima ja podemos tirar algumas insights. <br>\n",
    "\n",
    "- O passageiro mais velho tinha a idade de 80 anos\n",
    "- O passageiro mais novo tinha 1 ano de idade ou menos, visto que aproximamos todas as idades inferiores a 1 para 1.\n",
    "- A idade média dos passageiros era 29 anos.\n",
    "\n",
    "\n"
   ]
  },
  {
   "cell_type": "code",
   "execution_count": 20,
   "metadata": {},
   "outputs": [
    {
     "name": "stdout",
     "output_type": "stream",
     "text": [
      "No gráfico abaixo é possível visualizar melhor a distribuição de idade dos passageiros\n"
     ]
    },
    {
     "data": {
      "image/png": "[encoded data removed]",
      "text/plain": [
       "<Figure size 432x288 with 1 Axes>"
      ]
     },
     "metadata": {
      "needs_background": "light"
     },
     "output_type": "display_data"
    }
   ],
   "source": [
    "filtered_age = titanic_df[titanic_df['Age'].notnull()]\n",
    "#filtered_age['Age'].plot(kind='hist')\n",
    "\n",
    "# An \"interface\" to matplotlib.axes.Axes.hist() method\n",
    "n, bins, patches = plt.hist(x=filtered_age['Age'], bins='auto', color='#0504aa',\n",
    "                            alpha=0.7, rwidth=0.85)\n",
    "plt.grid(axis='y', alpha=0.75)\n",
    "plt.xlabel('Idade')\n",
    "plt.ylabel('Quantidade')\n",
    "plt.title('Distribuição da idade dos passageiros')\n",
    "maxfreq = n.max()\n",
    "print('No gráfico abaixo é possível visualizar melhor a distribuição de idade dos passageiros')"
   ]
  },
  {
   "cell_type": "code",
   "execution_count": 21,
   "metadata": {},
   "outputs": [
    {
     "name": "stdout",
     "output_type": "stream",
     "text": [
      "O homem mais velho a sobreviver tinha 80 anos e o mais novo tinha 1 ano(s).\n",
      "O homem mais velho a morrer tinha 74 anos e o mais novo tinha 1 ano(s).\n"
     ]
    }
   ],
   "source": [
    "male_surv = titanic_df[(titanic_df.Sex == \"male\") & (titanic_df.Survived == 1)]\n",
    "print('O homem mais velho a sobreviver tinha {0} anos e o mais novo tinha {1} ano(s).'\n",
    "      .format(male_surv['Age'].max(),male_surv['Age'].min()))\n",
    "male_surv = titanic_df[(titanic_df.Sex == \"male\") & (titanic_df.Survived == 0)]\n",
    "print('O homem mais velho a morrer tinha {0} anos e o mais novo tinha {1} ano(s).'\n",
    "      .format(male_surv['Age'].max(), male_surv['Age'].min()))"
   ]
  },
  {
   "cell_type": "code",
   "execution_count": 22,
   "metadata": {},
   "outputs": [
    {
     "name": "stdout",
     "output_type": "stream",
     "text": [
      "A mulher mais velha a sobreviver tinha 63 anos e a mais nova tinha 1 ano(s).\n",
      "A Mulher mais velha a morrer tinha 57 anos e a mais nova tinha 2 ano(s).\n"
     ]
    }
   ],
   "source": [
    "w_surv = titanic_df[(titanic_df.Sex == \"female\") & (titanic_df.Survived == 1)]\n",
    "print('A mulher mais velha a sobreviver tinha {0} anos e a mais nova tinha {1} ano(s).'\n",
    "      .format(w_surv['Age'].max(),w_surv['Age'].min()))\n",
    "w_surv = titanic_df[(titanic_df.Sex == \"female\") & (titanic_df.Survived == 0)]\n",
    "print('A Mulher mais velha a morrer tinha {0} anos e a mais nova tinha {1} ano(s).'\n",
    "      .format(w_surv['Age'].max(), w_surv['Age'].min()))"
   ]
  },
  {
   "cell_type": "code",
   "execution_count": 23,
   "metadata": {},
   "outputs": [
    {
     "name": "stdout",
     "output_type": "stream",
     "text": [
      "A idades dos homemns mais velhos a sobreviver da 1,2 e 3 classe são respectivamente 80 ano(s), 62 ano(s), 45 ano(s).\n"
     ]
    }
   ],
   "source": [
    "male_surv = titanic_df[(titanic_df.Sex == \"male\") & (titanic_df.Survived == 1)].groupby('Pclass')\n",
    "print('A idades dos homemns mais velhos a sobreviver da 1,2 e 3 classe são respectivamente {0} ano(s), {1} ano(s), {2} ano(s).'\n",
    "      .format(male_surv['Age'].max()[1], male_surv['Age'].max()[2], male_surv['Age'].max()[3]))"
   ]
  },
  {
   "cell_type": "code",
   "execution_count": 24,
   "metadata": {},
   "outputs": [
    {
     "name": "stdout",
     "output_type": "stream",
     "text": [
      "A idades dos homemns mais velhos a não sobreviver da 1,2 e 3 classe são respectivamente 71 ano(s), 70 ano(s), 74 ano(s).\n"
     ]
    }
   ],
   "source": [
    "male_surv = titanic_df[(titanic_df.Sex == \"male\") & (titanic_df.Survived == 0)].groupby('Pclass')\n",
    "print('A idades dos homemns mais velhos a não sobreviver da 1,2 e 3 classe são respectivamente {0} ano(s), {1} ano(s), {2} ano(s).'\n",
    "      .format(male_surv['Age'].max()[1], male_surv['Age'].max()[2], male_surv['Age'].max()[3]))"
   ]
  },
  {
   "cell_type": "code",
   "execution_count": 25,
   "metadata": {},
   "outputs": [
    {
     "data": {
      "text/plain": [
       "Text(0,0.5,'')"
      ]
     },
     "execution_count": 25,
     "metadata": {},
     "output_type": "execute_result"
    },
    {
     "data": {
      "image/png": "[encoded data removed]",
      "text/plain": [
       "<Figure size 432x288 with 1 Axes>"
      ]
     },
     "metadata": {},
     "output_type": "display_data"
    }
   ],
   "source": [
    "male_surv = titanic_df[(titanic_df.Sex == \"male\") & (titanic_df.Survived == 1)].groupby('Pclass')\n",
    "male_surv['Age'].max().plot.pie(title='Percentual de sobreviventes do sexo masculino por classe', \n",
    "                                       labels=('1 classe','2 classe', '3 classe'),\n",
    "                                       fontsize=15, shadow=True, startangle=90, autopct='%1.1f%%', \n",
    "                                       figsize=(6,4)).set_ylabel('')"
   ]
  },
  {
   "cell_type": "code",
   "execution_count": 26,
   "metadata": {},
   "outputs": [
    {
     "data": {
      "text/plain": [
       "Text(0,0.5,'')"
      ]
     },
     "execution_count": 26,
     "metadata": {},
     "output_type": "execute_result"
    },
    {
     "data": {
      "image/png": "[encoded data removed]",
      "text/plain": [
       "<Figure size 432x288 with 1 Axes>"
      ]
     },
     "metadata": {},
     "output_type": "display_data"
    }
   ],
   "source": [
    "w_surv = titanic_df[(titanic_df.Sex == \"female\") & (titanic_df.Survived == 1)].groupby('Pclass')\n",
    "w_surv['Survived'].value_counts().plot.pie(title='Percentual de sobreviventes do sexo feminino por classe', \n",
    "                                       labels=('1 classe','2 classe', '3 classe'),\n",
    "                                       fontsize=15, shadow=True, startangle=90, autopct='%1.1f%%', \n",
    "                                       figsize=(6,4)).set_ylabel('')"
   ]
  },
  {
   "cell_type": "markdown",
   "metadata": {},
   "source": [
    "## 3 - O que podemos inferir sobre a sexos dos passageiros e as taxas de sobrevivência."
   ]
  },
  {
   "cell_type": "code",
   "execution_count": 27,
   "metadata": {},
   "outputs": [
    {
     "name": "stdout",
     "output_type": "stream",
     "text": [
      "Através da análise podemos concluir apenas 109 homens sobreviveram e 468 não sobreviveram\n"
     ]
    },
    {
     "data": {
      "image/png": "[encoded data removed]",
      "text/plain": [
       "<Figure size 432x288 with 1 Axes>"
      ]
     },
     "metadata": {
      "needs_background": "light"
     },
     "output_type": "display_data"
    }
   ],
   "source": [
    "male_survived = titanic_df[titanic_df['Sex'] == \"male\"][\"Survived\"]\n",
    "#print(male_survived.value_counts())\n",
    "\n",
    "locations = [1, 2]\n",
    "heights = male_survived.value_counts()\n",
    "labels = ['Não', 'Sim']\n",
    "plt.bar(locations, heights, tick_label=labels)\n",
    "plt.title('Sobreviventes do sexo masculino')\n",
    "plt.xlabel('Sobreviveram')\n",
    "plt.ylabel('Quantidade');\n",
    "\n",
    "print('Através da análise podemos concluir apenas {0} homens sobreviveram e {1} não sobreviveram'\n",
    "      .format(male_survived.value_counts()[1], male_survived.value_counts()[0]))"
   ]
  },
  {
   "cell_type": "code",
   "execution_count": 71,
   "metadata": {},
   "outputs": [
    {
     "name": "stdout",
     "output_type": "stream",
     "text": [
      "Passageiros por classe e sexo quesobreviveram\n"
     ]
    },
    {
     "data": {
      "text/html": [
       "<div>\n",
       "<style scoped>\n",
       "    .dataframe tbody tr th:only-of-type {\n",
       "        vertical-align: middle;\n",
       "    }\n",
       "\n",
       "    .dataframe tbody tr th {\n",
       "        vertical-align: top;\n",
       "    }\n",
       "\n",
       "    .dataframe thead th {\n",
       "        text-align: right;\n",
       "    }\n",
       "</style>\n",
       "<table border=\"1\" class=\"dataframe\">\n",
       "  <thead>\n",
       "    <tr style=\"text-align: right;\">\n",
       "      <th>Pclass</th>\n",
       "      <th>1</th>\n",
       "      <th>2</th>\n",
       "      <th>3</th>\n",
       "    </tr>\n",
       "    <tr>\n",
       "      <th>Sex</th>\n",
       "      <th></th>\n",
       "      <th></th>\n",
       "      <th></th>\n",
       "    </tr>\n",
       "  </thead>\n",
       "  <tbody>\n",
       "    <tr>\n",
       "      <th>female</th>\n",
       "      <td>91</td>\n",
       "      <td>70</td>\n",
       "      <td>72</td>\n",
       "    </tr>\n",
       "    <tr>\n",
       "      <th>male</th>\n",
       "      <td>45</td>\n",
       "      <td>17</td>\n",
       "      <td>47</td>\n",
       "    </tr>\n",
       "  </tbody>\n",
       "</table>\n",
       "</div>"
      ],
      "text/plain": [
       "Pclass   1   2   3\n",
       "Sex               \n",
       "female  91  70  72\n",
       "male    45  17  47"
      ]
     },
     "execution_count": 71,
     "metadata": {},
     "output_type": "execute_result"
    }
   ],
   "source": [
    "print('Passageiros por classe e sexo quesobreviveram')\n",
    "pvt1_df = titanic_df[titanic_df['Survived'] == 1].pivot_table('PassengerId', ['Sex'], 'Pclass', aggfunc='count')\n",
    "pvt1_df"
   ]
  },
  {
   "cell_type": "code",
   "execution_count": 70,
   "metadata": {},
   "outputs": [
    {
     "name": "stdout",
     "output_type": "stream",
     "text": [
      "Passageiros por classe e sexo que não sobreviveram\n"
     ]
    },
    {
     "data": {
      "text/html": [
       "<div>\n",
       "<style scoped>\n",
       "    .dataframe tbody tr th:only-of-type {\n",
       "        vertical-align: middle;\n",
       "    }\n",
       "\n",
       "    .dataframe tbody tr th {\n",
       "        vertical-align: top;\n",
       "    }\n",
       "\n",
       "    .dataframe thead th {\n",
       "        text-align: right;\n",
       "    }\n",
       "</style>\n",
       "<table border=\"1\" class=\"dataframe\">\n",
       "  <thead>\n",
       "    <tr style=\"text-align: right;\">\n",
       "      <th>Pclass</th>\n",
       "      <th>1</th>\n",
       "      <th>2</th>\n",
       "      <th>3</th>\n",
       "    </tr>\n",
       "    <tr>\n",
       "      <th>Sex</th>\n",
       "      <th></th>\n",
       "      <th></th>\n",
       "      <th></th>\n",
       "    </tr>\n",
       "  </thead>\n",
       "  <tbody>\n",
       "    <tr>\n",
       "      <th>female</th>\n",
       "      <td>3</td>\n",
       "      <td>6</td>\n",
       "      <td>72</td>\n",
       "    </tr>\n",
       "    <tr>\n",
       "      <th>male</th>\n",
       "      <td>77</td>\n",
       "      <td>91</td>\n",
       "      <td>300</td>\n",
       "    </tr>\n",
       "  </tbody>\n",
       "</table>\n",
       "</div>"
      ],
      "text/plain": [
       "Pclass   1   2    3\n",
       "Sex                \n",
       "female   3   6   72\n",
       "male    77  91  300"
      ]
     },
     "execution_count": 70,
     "metadata": {},
     "output_type": "execute_result"
    }
   ],
   "source": [
    "print('Passageiros por classe e sexo que não sobreviveram')\n",
    "pvt2_df = titanic_df[titanic_df['Survived'] == 0].pivot_table('PassengerId', ['Sex'], 'Pclass', aggfunc='count')\n",
    "pvt2_df"
   ]
  },
  {
   "cell_type": "markdown",
   "metadata": {},
   "source": [
    "Através das tabela acima podemos analisar que índice de sobrevivência das mulheres da primeira \n",
    "      classe foi altissímo, visto que apenas 3 não sobreviveram. Além disso os homens da terceira classe foram os tiveram o maior índice de mortalidade no acidente."
   ]
  },
  {
   "cell_type": "code",
   "execution_count": 28,
   "metadata": {},
   "outputs": [
    {
     "name": "stdout",
     "output_type": "stream",
     "text": [
      "1    233\n",
      "0     81\n",
      "Name: Survived, dtype: int64\n",
      "Através da análise podemos concluir apenas 233 mulheres sobreviveram e 81 não sobreviveram\n"
     ]
    },
    {
     "data": {
      "image/png": "[encoded data removed]",
      "text/plain": [
       "<Figure size 432x288 with 1 Axes>"
      ]
     },
     "metadata": {
      "needs_background": "light"
     },
     "output_type": "display_data"
    }
   ],
   "source": [
    "female_survived = titanic_df[titanic_df['Sex'] == \"female\"][\"Survived\"]\n",
    "print(female_survived.value_counts())\n",
    "\n",
    "locations = [1, 2]\n",
    "heights = female_survived.value_counts()\n",
    "labels = ['Sim', 'Não']\n",
    "plt.bar(locations, heights, tick_label=labels)\n",
    "plt.title('Sobreviventes do sexo feminino')\n",
    "plt.xlabel('Sobreviveram')\n",
    "plt.ylabel('Quantidade');\n",
    "\n",
    "print('Através da análise podemos concluir apenas {0} mulheres sobreviveram e {1} não sobreviveram'\n",
    "      .format(female_survived.value_counts()[1], female_survived.value_counts()[0]))"
   ]
  },
  {
   "cell_type": "code",
   "execution_count": 104,
   "metadata": {},
   "outputs": [
    {
     "data": {
      "text/plain": [
       "<Figure size 432x288 with 0 Axes>"
      ]
     },
     "metadata": {},
     "output_type": "display_data"
    },
    {
     "data": {
      "image/png": "[encoded data removed]",
      "text/plain": [
       "<Figure size 720x360 with 1 Axes>"
      ]
     },
     "metadata": {
      "needs_background": "light"
     },
     "output_type": "display_data"
    }
   ],
   "source": [
    "df_histage = pd.DataFrame({'Total': titanic_df['Pclass'],\n",
    "                           'Não Sobreviveram': titanic_df[titanic_df['Survived'] == 0]['Pclass'], \n",
    "                           'Sobreviveram': titanic_df[titanic_df['Survived'] == 1]['Pclass']},                       \n",
    "                            columns=['Total','Não Sobreviveram', 'Sobreviveram'])\n",
    "\n",
    "plt.figure();\n",
    "df_histage.plot.hist(bins=10, alpha=0.5, figsize=(10,5), \n",
    "                     title='4.2.1 Histogramas (Total, Sobreviventes e Não sobreviventes) por Classe')\n",
    "plt.xlabel('Classe')\n",
    "plt.ylabel('Frequência')\n",
    "plt.show()"
   ]
  },
  {
   "cell_type": "code",
   "execution_count": 105,
   "metadata": {},
   "outputs": [
    {
     "data": {
      "text/plain": [
       "Text(0,0.5,'Quantidade')"
      ]
     },
     "execution_count": 105,
     "metadata": {},
     "output_type": "execute_result"
    },
    {
     "data": {
      "image/png": "[encoded data removed]",
      "text/plain": [
       "<Figure size 1080x288 with 1 Axes>"
      ]
     },
     "metadata": {
      "needs_background": "light"
     },
     "output_type": "display_data"
    }
   ],
   "source": [
    "n_surv_class_df = titanic_df[titanic_df['Survived'] == 0].groupby('Pclass')\n",
    "n_surv_class_df['Survived'].count().plot(kind='bar', title='2.4. Quantide de Não sobreviventes por Classe', \n",
    "                                       rot=0, figsize=(15,4)).set_xlabel('Classe')\n",
    "plt.ylabel('Quantidade')"
   ]
  },
  {
   "cell_type": "code",
   "execution_count": 42,
   "metadata": {},
   "outputs": [
    {
     "data": {
      "text/plain": [
       "Text(0,0.5,'Quantidade')"
      ]
     },
     "execution_count": 42,
     "metadata": {},
     "output_type": "execute_result"
    },
    {
     "data": {
      "image/png": "[encoded data removed]",
      "text/plain": [
       "<Figure size 1080x288 with 1 Axes>"
      ]
     },
     "metadata": {
      "needs_background": "light"
     },
     "output_type": "display_data"
    }
   ],
   "source": [
    "surv_class_df = titanic_df[titanic_df['Survived'] == 1].groupby('Pclass')\n",
    "surv_class_df['Survived'].count().plot(kind='bar', title='2.4. Quantide de sobreviventes por Classe', \n",
    "                                       rot=0, figsize=(15,4)).set_xlabel('Classe')\n",
    "plt.ylabel('Quantidade')"
   ]
  },
  {
   "cell_type": "code",
   "execution_count": 93,
   "metadata": {},
   "outputs": [
    {
     "data": {
      "text/plain": [
       "Text(0,0.5,'Quantidade')"
      ]
     },
     "execution_count": 93,
     "metadata": {},
     "output_type": "execute_result"
    },
    {
     "data": {
      "image/png": "[encoded data removed]",
      "text/plain": [
       "<Figure size 432x288 with 1 Axes>"
      ]
     },
     "metadata": {
      "needs_background": "light"
     },
     "output_type": "display_data"
    }
   ],
   "source": [
    "titanic_df[titanic_df['Survived'] == 1].pivot_table('PassengerId', ['Pclass'], 'Sex', aggfunc='count').plot(kind='bar',\n",
    "                            title='Comparativo de sobreviventes por sexo e classe')\n",
    "              \n",
    "plt.xlabel('Classe')\n",
    "plt.ylabel('Quantidade')"
   ]
  },
  {
   "cell_type": "code",
   "execution_count": 106,
   "metadata": {},
   "outputs": [
    {
     "data": {
      "text/plain": [
       "Text(0,0.5,'Quantidade')"
      ]
     },
     "execution_count": 106,
     "metadata": {},
     "output_type": "execute_result"
    },
    {
     "data": {
      "image/png": "[encoded data removed]",
      "text/plain": [
       "<Figure size 432x288 with 1 Axes>"
      ]
     },
     "metadata": {
      "needs_background": "light"
     },
     "output_type": "display_data"
    }
   ],
   "source": [
    "titanic_df.pivot_table('PassengerId', ['Sex', 'Pclass'], 'Survived', aggfunc='count').plot(kind='bar',\n",
    "                            title='Comparativo de sobreviventes por sexo e classe')\n",
    "              \n",
    "plt.xlabel('Classe')\n",
    "plt.ylabel('Quantidade')"
   ]
  },
  {
   "cell_type": "markdown",
   "metadata": {},
   "source": [
    "## Conclusão"
   ]
  },
  {
   "cell_type": "markdown",
   "metadata": {},
   "source": [
    "O objetivo deste trabalho foi realizar uma análise exploratório a fim de identificar se houveram fatores que interferiram na sobrevivências dos passageiros. <br>\n",
    "\n",
    "Através das análises acima fica claro que o fator sexo e classe foram definitivos para a sobrevivência dos passageiros, visto o alto índice de sobrevivência das mulheres da primeira e segunda classe. Em contra partida os homenos da terceira classe foram os que tiveram o maior índices de mortes, ou seja, com menores possibilidades de sobrevivência.\n",
    "\n",
    "Através de pesquisas foi descoberto que existiam poucos botes para suprir toda a quantidade de passageiros e também que muitos dos passageiros da terceira classe não conseguiram chegar a nível principal do navio."
   ]
  },
  {
   "cell_type": "markdown",
   "metadata": {},
   "source": [
    "## Limitações"
   ]
  },
  {
   "cell_type": "markdown",
   "metadata": {},
   "source": [
    "Na primeira análise dos dados foi identificado que a massa de dados utilizada possuía colunas com campos vazios, tais como : Age, Cabin e Embarked.\n",
    "\n",
    "- Medidas realizadas:\n",
    "    - Age - Foi assinnalado nas linhas com dados faltantes a média da idades por classe e sexo a fim de manter uma proporção mais fiel a realidade.\n",
    "    - Cabin - Não foi aplicado nenhum tratamento pois esta coluna não foi usada na análise dos dados\n",
    "    - Embarked - Não foi aplicado nenhum tratamento pois esta coluna não foi usada na análise dos dados"
   ]
  },
  {
   "cell_type": "markdown",
   "metadata": {},
   "source": [
    "## Insights para novas análises"
   ]
  },
  {
   "cell_type": "markdown",
   "metadata": {},
   "source": [
    "Existem outras possibilidades de análises e perguntas a serem respondidas tais como :\n",
    "\n",
    "\n",
    "1. Quantos passageiros havia em cada classe do navio?\n",
    "2. Quantas mulheres havia a bordo do navio?\n",
    "3. Quantos homens havia a bordo do navio?\n",
    "4. Qual a média das idades das mulheres?\n",
    "5. Qual a média das idades dos homens?\n",
    "6. Qual a idade da mulher mais idosa?\n",
    "7. Qual a idade do homem mais idoso?\n",
    "8. Quantas mulheres havia em cada classe do navio?\n",
    "9. Quantos homens havia em cada classe do navio?\n",
    "10. Qual era a porcentagem de homens em cada classe do navio?\n",
    "11. Qual a média de idade das mulheres em cada classe do navio?\n",
    "12. Qual a média de idade dos homens em cada classe do navio?\n",
    "13. Quantos passageiros viajavam acompanhados de membros da família?\n",
    "14. Quantos passageiros viajavam desacompanhados de membros da família?\n",
    "15. Quantos passageiros embarcaram em cada porto?\n",
    "16. Quantos passageiros embarcaram em cada classe em cada porto?\n",
    "17. Qual o valor médio do tíquete para cada classe?\n",
    "18. Quantas vezes o tíquete da primeira classe era mais caro que o da segunda?\n",
    "19. Quantas vezes o tíquete da segunda classe era mais caro que o da terceira?\n",
    "20. Quantas vezes o tíquete da primeira classe era mais caro que o da terceira?\n",
    "21. Qual o valor médio do tíquete em cada classe para aqueles que viajavam com membros da família?\n",
    "22. Qual o valor médio do tíquete em cada classe para aqueles que viajavam desacompanhados da família?\n",
    "23. Qual o valor médio do tíquete para crianças em cada classe?\n",
    "24. Qual o valor médio do tíquete para mulheres em cada classe?\n",
    "25. Qual o valor médio do tíquete para homens em cada classe?\n",
    "26. Qual o valor médio do tíquete para idosos em cada classe?\n",
    "27. Qual a idade média dos sobreviventes do naufrágio?\n",
    "28. Qual a idade média das vítimas do naufrágio?\n",
    "29. Qual a idade do sobrevivente mais novo?\n",
    "30. Qual a idade da vítima mais nova?\n",
    "31. Qual a idade do sobrevivente mais idoso?\n",
    "32. Qual a idade da vítima mais idosa?\n",
    "33. Qual a porcentagem de sobreviventes em cada classe do navio?\n",
    "34. Qual a porcentagem de sobreviventes entre as crianças?\n",
    "35. Qual a porcentagem de sobreviventes entre as mulheres?\n",
    "36. Qual a porcentagem de sobreviventes entre os homens?\n",
    "37. Qual a porcentagem de sobreviventes entre os idosos?\n",
    "38. Qual a porcentagem de sobreviventes entre os que viajavam com a família?\n",
    "39. Qual a porcentagem de sobreviventes entre os que viajavam desacompanhados?\n",
    "40. Qual o valor médio dos tíquetes de sobreviventes em cada classe do navio?\n",
    "41. Qual o valor médio dos tíquetes das vítimas em cada classe do navio?\n",
    "42. Quais fatores contribuíram para a sobrevivência dos passageiros a bordo?"
   ]
  },
  {
   "cell_type": "markdown",
   "metadata": {},
   "source": [
    "Referências :\n",
    "\n",
    "- http://minerandodados.com.br/index.php/2017/09/01/cafe-com-codigo-tratando-valores-faltantes-pandas-python/\n",
    "- https://paulovasconcellos.com.br/28-comandos-%C3%BAteis-de-pandas-que-talvez-voc%C3%AA-n%C3%A3o-conhe%C3%A7a-6ab64beefa93\n",
    "- https://medium.com/data-hackers/uma-introdu%C3%A7%C3%A3o-simples-ao-pandas-1e15eea37fa1\n",
    "- https://www.vooo.pro/insights/12-tecnicas-pandas-uteis-em-python-para-manipulacao-de-dados/\n",
    "- https://pandas.pydata.org/pandas-docs/stable/generated/pandas.DataFrame.fillna.html\n",
    "- https://matplotlib.org/users/pyplot_tutorial.html\n",
    "- https://realpython.com/python-histograms/\n",
    "- https://www.dataquest.io/blog/pandas-pivot-table/"
   ]
  },
  {
   "cell_type": "code",
   "execution_count": null,
   "metadata": {},
   "outputs": [],
   "source": []
  }
 ],
 "metadata": {
  "kernelspec": {
   "display_name": "Python 3",
   "language": "python",
   "name": "python3"
  },
  "language_info": {
   "codemirror_mode": {
    "name": "ipython",
    "version": 3
   },
   "file_extension": ".py",
   "mimetype": "text/x-python",
   "name": "python",
   "nbconvert_exporter": "python",
   "pygments_lexer": "ipython3",
   "version": "3.7.0"
  }
 },
 "nbformat": 4,
 "nbformat_minor": 2
}
